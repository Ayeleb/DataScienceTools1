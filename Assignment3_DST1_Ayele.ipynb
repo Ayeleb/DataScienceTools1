{
 "cells": [
  {
   "cell_type": "code",
   "execution_count": 1,
   "metadata": {},
   "outputs": [
    {
     "ename": "SyntaxError",
     "evalue": "invalid syntax (<ipython-input-1-ebb7865355be>, line 1)",
     "output_type": "error",
     "traceback": [
      "\u001b[0;36m  File \u001b[0;32m\"<ipython-input-1-ebb7865355be>\"\u001b[0;36m, line \u001b[0;32m1\u001b[0m\n\u001b[0;31m    sorted_words = echo ! curl http://www.gutenberg.org/files/58785/58785-0.txt | grep -oE \"\\w+\" |sort|uniq -c |sort -k1,1 -k2,2fr\u001b[0m\n\u001b[0m                        ^\u001b[0m\n\u001b[0;31mSyntaxError\u001b[0m\u001b[0;31m:\u001b[0m invalid syntax\n"
     ]
    }
   ],
   "source": [
    "sorted_words = echo ! curl http://www.gutenberg.org/files/58785/58785-0.txt | grep -oE \"\\w+\" |sort|uniq -c |sort -k1,1 -k2,2fr \n",
    "sorted_words"
   ]
  },
  {
   "cell_type": "code",
   "execution_count": 89,
   "metadata": {},
   "outputs": [
    {
     "name": "stdout",
     "output_type": "stream",
     "text": [
      "Total number of words = 11450\n",
      "Min frequency and word =       1 _woman_ \n",
      "Max frequency and word =    5082 the \n",
      "Median Frequency = 2\n",
      "Sum of frequencies = 11450\n",
      "Total unique words = 126825\n",
      "Mean frequency using integer arithemetics = 11\n",
      "Mean frequency using floating point arithemetics = 11.07641 \n"
     ]
    }
   ],
   "source": [
    "%%bash\n",
    "#!/bin/bash\n",
    "# Bash script to calculates the MAX, MIN, MEDIAN and MEAN of the word frequencies in the\n",
    "# file the  http://www.gutenberg.org/files/58785/58785-0.txt\n",
    "\n",
    "#if [ $# -ne 1 ]\n",
    " #  then\n",
    " #      echo \"Please provide a txt file url\"\n",
    "  #     echo \"usage ./calculate_basic_stats.sh  url\"\n",
    "       #exit with error\n",
    " #      exit 1\n",
    "#fi   \n",
    "\n",
    "#echo  \"############### Statistics for file  ############### \"\n",
    "\n",
    "# Q1(.5 point) write  positional parameter after echo to print its value. It is the file url used by curl command.\n",
    "\n",
    "#echo $1\n",
    "\n",
    "\n",
    "# sort based on multiple columns\n",
    "#Q2(2= 1+1 for right sorting of each columns). Write last sort command options so that first column(frequencies) is\n",
    "#sorted via numerical values and\n",
    "#second column is sorted by reverse alphabetical order\n",
    "\n",
    "sorted_words=`curl -s http://www.gutenberg.org/files/58785/58785-0.txt |tr [A-Z] [a-z]|grep -oE \"\\w+\"|sort|uniq -c|sort -k1,1 -k2,2fr`\n",
    "set sorted_words \n",
    "#echo $sorted_words\n",
    "\n",
    "total_uniq_words=`echo \"$sorted_words\"|wc -l`\n",
    "echo \"Total number of words = $total_uniq_words\"\n",
    "\n",
    "#Q3(1=.5+.5 points ) Complete the code in the following echo statements to calculate the  Min and Max frequency with respective word\n",
    "#Hint:  Use sorted_words variable, head, tail and command susbtitution\n",
    "\n",
    "smallest_word=`curl -s http://www.gutenberg.org/files/58785/58785-0.txt |tr [A-Z] [a-z]|grep -oE \"\\w+\"|sort|uniq -c|sort -k1,1 -k2,2fr|head -n 1`\n",
    "biggest_word=`curl -s http://www.gutenberg.org/files/58785/58785-0.txt |tr [A-Z] [a-z]|grep -oE \"\\w+\"|sort|uniq -c|sort -k1,1 -k2,2fr|tail -n 1`\n",
    "#echo $smallest_word\n",
    "#echo $biggest_word\n",
    "echo \"Min frequency and word = $smallest_word \"\n",
    "echo \"Max frequency and word = $biggest_word \"\n",
    "\n",
    "#Median calculation\n",
    "\n",
    "#Q4(2=1(taking care of even number of frequencies)+1 points(right value of median)). Using sorted_words,\n",
    "#write code for median frequency value calculation. Print the value of the median with an echo statement, stating\n",
    "# it is a median value.\n",
    "#Code must check even or odd  number of unique words. For even case median is the mean of middle two values,\n",
    "#for the odd case, it is middle value in sorted items.\n",
    "\n",
    "median_word=`curl -s http://www.gutenberg.org/files/58785/58785-0.txt |tr [A-Z] [a-z]|grep -oE \"\\w+\"|sort|uniq -c|sort -k1,1 -k2,2fr|awk '{arr[NR]=$1} END{if (NR%2==1) print arr[(NR+1/2)]; else print(arr[NR/2]+arr[NR/2+1])/2}'`\n",
    "echo \"Median Frequency = $median_word\"\n",
    "\n",
    "# Mean value calculation\n",
    "#Q5(1 point) Using for loop, write code to update count variable: total number of unique words\n",
    "\n",
    "\n",
    "total_freq=0\n",
    "count=0\n",
    "\n",
    "#if [ $i%2==1 ]; then total_freq=$((total_freq + 1))\n",
    "\n",
    "for i in ${sorted_words[@]}; do \n",
    "    a_b=$(($a_b + 1)) \n",
    "    if (($a_b % 2)); then\n",
    "    total_freq=$(($total_freq + 1))\n",
    "    fi\n",
    "    #echo \"$total_freq\"\n",
    "    \n",
    "done\n",
    "\n",
    "\n",
    "\n",
    "#Q6(1 point) Using for loop, write code to update total_freq variable : sum of frequencies\n",
    "for i in ${sorted_words[@]}; do \n",
    "    a_b=$(($a_b + 1)) \n",
    "    if (($a_b % 2)); then\n",
    "    count=$(($count + $i))\n",
    "    #echo $i\n",
    "    fi\n",
    "    #echo \"$total_freq\"\n",
    "    \n",
    "done\n",
    "\n",
    "\n",
    "\n",
    "#Q7(1 point) Write code to calculate mean frequency value based on total_freq and count\n",
    "mean=$(($count / $total_freq))\n",
    "\n",
    "\n",
    "echo \"Sum of frequencies = $total_freq\"\n",
    "echo \"Total unique words = $count\"\n",
    "echo \"Mean frequency using integer arithemetics = $mean\"\n",
    "\n",
    "#Q8(1 point) Using bc -l command, calculate mean value.\n",
    "# Write your code after = \n",
    "\n",
    "mean=$(echo \"scale=5; ($count / $total_freq)\" | bc)\n",
    "echo \"Mean frequency using floating point arithemetics = $mean \""
   ]
  },
  {
   "cell_type": "code",
   "execution_count": null,
   "metadata": {},
   "outputs": [],
   "source": []
  },
  {
   "cell_type": "code",
   "execution_count": null,
   "metadata": {},
   "outputs": [],
   "source": []
  },
  {
   "cell_type": "code",
   "execution_count": 51,
   "metadata": {},
   "outputs": [
    {
     "ename": "SyntaxError",
     "evalue": "invalid syntax (<ipython-input-51-34b35d19c7e0>, line 1)",
     "output_type": "error",
     "traceback": [
      "\u001b[0;36m  File \u001b[0;32m\"<ipython-input-51-34b35d19c7e0>\"\u001b[0;36m, line \u001b[0;32m1\u001b[0m\n\u001b[0;31m    total_uniq_words= echo \"$sorted_words\"|wc -l\u001b[0m\n\u001b[0m                                         ^\u001b[0m\n\u001b[0;31mSyntaxError\u001b[0m\u001b[0;31m:\u001b[0m invalid syntax\n"
     ]
    }
   ],
   "source": [
    "total_uniq_words= echo \"$sorted_words\"|wc -l"
   ]
  },
  {
   "cell_type": "code",
   "execution_count": null,
   "metadata": {},
   "outputs": [],
   "source": [
    "1= 3+2\n"
   ]
  },
  {
   "cell_type": "code",
   "execution_count": null,
   "metadata": {},
   "outputs": [],
   "source": []
  },
  {
   "cell_type": "code",
   "execution_count": null,
   "metadata": {},
   "outputs": [],
   "source": []
  },
  {
   "cell_type": "code",
   "execution_count": null,
   "metadata": {},
   "outputs": [],
   "source": []
  },
  {
   "cell_type": "code",
   "execution_count": null,
   "metadata": {},
   "outputs": [],
   "source": []
  }
 ],
 "metadata": {
  "kernelspec": {
   "display_name": "Python 2",
   "language": "python",
   "name": "python2"
  },
  "language_info": {
   "codemirror_mode": {
    "name": "ipython",
    "version": 3
   },
   "file_extension": ".py",
   "mimetype": "text/x-python",
   "name": "python",
   "nbconvert_exporter": "python",
   "pygments_lexer": "ipython3",
   "version": "3.6.9"
  }
 },
 "nbformat": 4,
 "nbformat_minor": 2
}
